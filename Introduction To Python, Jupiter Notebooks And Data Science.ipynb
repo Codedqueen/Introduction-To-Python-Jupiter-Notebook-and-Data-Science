{
 "cells": [
  {
   "cell_type": "markdown",
   "id": "280353f3-7f83-4063-b24e-c93ad359c76a",
   "metadata": {},
   "source": [
    "# What is Data science ?\n"
   ]
  },
  {
   "cell_type": "markdown",
   "id": "cc7d492c-f640-4f21-a034-6bc1e21a7c40",
   "metadata": {},
   "source": [
    "##### It is a process and not an event. It is a process of using data to understand the world.\n",
    "##### It is the study of using data to understand real life raection.\n",
    "##### When you have a model or hypothesis of a program and try to validate that hypothsis or model with your data\n",
    "##### Translate a data into a story and use story telling to generate insight and use this insight to make choice\n",
    "##### for our company or constitution.\n",
    "##### It involves data, it is more about data and noy  more of science.In the past we dont have algorithmns\n",
    "##### But now we have.data is real and has real properties.\n",
    "##### It involves working with data to find answers to questions.\n",
    "##### It is aboit process and system and you can use two types of data ; structured and Unstructured data.\n",
    "##### It can also be defined as the study of process/system."
   ]
  },
  {
   "cell_type": "markdown",
   "id": "16e9bec8-92bb-43f1-9257-b0d38c2d6943",
   "metadata": {},
   "source": [
    "# Why Program ?"
   ]
  },
  {
   "cell_type": "markdown",
   "id": "789a35c8-e53d-4120-9070-0d77e7ccded2",
   "metadata": {},
   "source": [
    "#### Computers wants to be helpful\n",
    "\n",
    "##### They are built to do things for us.\n",
    "##### We need to speak their language to describe what we want done.\n",
    "##### Users have it easy because someone have already inputed the data\n",
    "\n",
    "##### Programmers Anticipate needs ,now most programmers are iphone developers,\n",
    "###### They know thwe way of the program \n",
    "\n",
    "#### Users Vs Programmers\n",
    "##### Programmers learn the computer \"ways\" and computer language\n",
    "##### They have some tools that allows them to build new tools\n",
    "##### They sometimes write tools for others or for themselves so as to automate a task."
   ]
  },
  {
   "cell_type": "markdown",
   "id": "fecce61a-9e34-4a87-8ef1-eed146de4cd8",
   "metadata": {},
   "source": [
    "# Why Be A Programmer ?\n",
    "##### It is a good job and you can  need to use your brain.\n",
    "##### To get paid and improve your carrier.\n",
    "##### To produce something for others to use is a programmers job.\n",
    "#####  To clean up survey data.\n",
    "##### The essence is to change our perspective,you need to see yourself inside the computer. \n",
    "##### The computer serves us and we serve the end users and we do that by writing codes."
   ]
  },
  {
   "cell_type": "markdown",
   "id": "17dbae6f-9b24-4651-bf3c-da887c24df4e",
   "metadata": {},
   "source": [
    "### What  is a code, Software, a program ?\n",
    "\n",
    "##### It is a sequence of stored instructions.\n",
    "##### It is a little piece of our intelligence to the computer.\n",
    "##### You write code to meet the needs of end users.\n",
    "##### It is a piece of creative art .\n",
    "##### We have programs for computers and programs for humans.\n",
    "##### Computers are literal, you need to be pricise.\n",
    "##### Computers does not understand what you mean and what you say.\n",
    "##### They get confused easily but computers can translate text.\n",
    "##### Computers have a language and we need to learn its code."
   ]
  },
  {
   "cell_type": "code",
   "execution_count": null,
   "id": "60871248-c06c-4436-b7ee-64c22b423ad2",
   "metadata": {},
   "outputs": [],
   "source": [
    "# Identify the most common words\n",
    "\n",
    "    name = raw_input('Enter files :')\n",
    "    handle = open(name)\n",
    "    counts = dict()\n",
    "    for line in handle:\n",
    "        words = line.split()\n",
    "        for words in words:\n",
    "counts[words] = counts.get(word,0) + 1\n",
    "\n",
    "bigcount = None\n",
    "bigword = None\n",
    "For word,count.in counts.items():\n",
    "    if bigcount is None or count > bigcount:\n",
    "        bigword = word\n",
    "        bigcount = count\n",
    "        print(bigword, bigcount)"
   ]
  },
  {
   "cell_type": "markdown",
   "id": "b249c557-6e9e-449e-8eaf-389b86e2661a",
   "metadata": {},
   "source": [
    "## Python as a language\n",
    "\n",
    "##### Python is a language of the python intepreter and those who can converse with it are called\n",
    "##### Pythonisiats,it is a very uncommon skill and may be heriditary.\n",
    "##### Python software was developed by Gudo van Rossum about 20 yrs ago.\n",
    "##### It is easy to learn and very powerful\n",
    "\n",
    "### Early learner : syntax errors\n",
    "\n",
    "#####we need to learn the python language so that we can communicate our instructions to python.\n",
    "#### When you make a mistake the computer says syntax error.\n",
    "##### You must remember that you are intelligent and can learn.\n",
    "##### The computer is very fast and simple but cannot learn, it is easier for you to learn python\n",
    "##### than for the computer to learn English"
   ]
  },
  {
   "cell_type": "code",
   "execution_count": null,
   "id": "67cf658e-fe00-4acc-a400-4f20ce539a3f",
   "metadata": {},
   "outputs": [],
   "source": [
    "# Examples of python language https://www.py4e.com\n",
    " x = 1\n",
    "print(X)\n",
    "\n",
    "x = x + 1\n",
    "print(x)\n",
    "\n",
    "exit()"
   ]
  },
  {
   "cell_type": "markdown",
   "id": "5d93314e-dc65-4f47-8ac4-0235c2f3865e",
   "metadata": {},
   "source": [
    "### Introduction : Elements of python\n",
    "##### Vocabulary/words :Variables/Reserved words\n",
    "##### Sentence structure : valid syntax pattern\n",
    "##### story Structure - constructing a program for purpose"
   ]
  },
  {
   "cell_type": "markdown",
   "id": "c0268239-354e-4d37-9714-b8898b07bd9d",
   "metadata": {},
   "source": [
    "### A short story on how to count word in python\n"
   ]
  },
  {
   "cell_type": "code",
   "execution_count": null,
   "id": "4ce47b52-a4bd-43c0-abe8-fe6204adf146",
   "metadata": {},
   "outputs": [],
   "source": [
    "name = raw_input('Enter files :')\n",
    "    handle = open(name)\n",
    "    counts = dict()\n",
    "    for line in handle:\n",
    "        words = line.split()\n",
    "        for words in words:\n",
    "counts[words] = counts.get(word,0) + 1\n",
    "\n",
    "bigcount = None\n",
    "bigword = None\n",
    "For word,count in counts.items():\n",
    "    if bigcount is None or count > bigcount:\n",
    "        bigword = word\n",
    "        bigcount = count\n",
    "        \n",
    "print(bigword,bigcount)"
   ]
  },
  {
   "cell_type": "markdown",
   "id": "a68df954-24d4-44f4-813e-197592405846",
   "metadata": {},
   "source": [
    "### Reserved words\n",
    "#####  They are words that python understands ie python vocabularies\n",
    "##### You cannot use reserved words as variable names/identifiers"
   ]
  },
  {
   "cell_type": "code",
   "execution_count": null,
   "id": "af1a9573-563d-420e-8923-77db05fd4ea0",
   "metadata": {},
   "outputs": [],
   "source": [
    "False None True and  as assert break\n",
    "class  if def del elif else except \n",
    "return for from global try import\n",
    "in is lambda while not or pass raise\n",
    "finally continue nonlocal with yield"
   ]
  },
  {
   "cell_type": "markdown",
   "id": "4ef523d9-f030-4320-b709-21100dd2cffe",
   "metadata": {},
   "source": [
    "# # Sentences or Lines\n",
    "\n",
    "##### Python program are series of lines. they are series of statement and have an order.\n",
    "\n",
    "x = 2     # Assigment satement\n",
    "x = x+2   # Assignment with expression\n",
    "print(x)  ## Print statement\n",
    "\n",
    "##### + , = sign are operators\n",
    "###### x is a variable "
   ]
  },
  {
   "cell_type": "markdown",
   "id": "7531eb98-6698-4698-b24b-5b52b9defa49",
   "metadata": {},
   "source": [
    "##### we have variables, reserved words, constant and operators all serve different purpose in python coding"
   ]
  },
  {
   "cell_type": "markdown",
   "id": "d497d978-c167-4100-9c14-9dcb952e0108",
   "metadata": {},
   "source": [
    "##3 Programming in paragraph\n",
    "#### Python script\n",
    "##### Interative python is good for experiments - programs of 3-4 lines\n",
    "##### As a convention we add \"py\" as the suffix on the end of these files to indicate they contain python.\n"
   ]
  },
  {
   "cell_type": "markdown",
   "id": "250db6d9-4c07-4550-93d2-9c6f6370987d",
   "metadata": {},
   "source": [
    "### Interactive Python\n",
    "##### Interactive\n",
    "##### You ask python a question one line at a time and it responds\n",
    "#### Script\n",
    "##### You enter a sequence of statement(lines)into a file using a text editor and \n",
    "##### tell python to execute the statements in the file.\n"
   ]
  },
  {
   "cell_type": "markdown",
   "id": "dffad37e-4e6a-46d1-8dd7-7041e2bc24ac",
   "metadata": {},
   "source": [
    "#### Program steps or program flow\n",
    "##### A program is a sequence of steps to be repeated\n",
    "##### Some steps are conditional - they may be skipped\n",
    "##### It is a sequence of steps to be done in order\n",
    "##### Sometimes a step or group of steps is to be repeated\n",
    "##### Sometimes we store a set of steps to be used over and \n",
    "##### over as needed several places through out the program."
   ]
  },
  {
   "cell_type": "markdown",
   "id": "2c76b711-6dfb-4b38-a759-5ed5c27d9bb9",
   "metadata": {},
   "source": [
    "#### Sequential steps\n",
    "##### When a program is running, it flows from one step to anothe.\n",
    "##### As programmers we set up \"paths\" for the program to follow.\n",
    "\n",
    "##### Program               Output\n",
    " x = 2\n",
    "print(X)                    2\n",
    "\n",
    "x = x + 2\n",
    "print(x)                   4"
   ]
  },
  {
   "cell_type": "code",
   "execution_count": 1,
   "id": "1cfa1e22-052f-47c5-aa01-11802c16f93f",
   "metadata": {},
   "outputs": [
    {
     "name": "stdout",
     "output_type": "stream",
     "text": [
      "2\n",
      "4\n"
     ]
    }
   ],
   "source": [
    "x = 2\n",
    "print(x)\n",
    "\n",
    "x = x + 2\n",
    "print(x)"
   ]
  },
  {
   "cell_type": "markdown",
   "id": "f3400219-268f-4ad5-b57d-021c3c247308",
   "metadata": {},
   "source": [
    "### Conditionat step\n",
    "##### It is the ability to encode brain into the computer, you use the reserved word if\n",
    "##### You can either run the code if it is true, or skip it if it false\n"
   ]
  },
  {
   "cell_type": "code",
   "execution_count": 4,
   "id": "cbaa97ea-543c-402c-991c-d40b9a765508",
   "metadata": {},
   "outputs": [
    {
     "name": "stdout",
     "output_type": "stream",
     "text": [
      "smaller\n",
      "finis\n"
     ]
    }
   ],
   "source": [
    "x = 5\n",
    "if x < 10:\n",
    "    print('smaller')\n",
    "    \n",
    "if x > 20:    \n",
    "    print('bigger')\n",
    "    \n",
    "print('finis')"
   ]
  },
  {
   "cell_type": "markdown",
   "id": "29069dd3-aef4-46fb-98e5-8939cd2c3bdd",
   "metadata": {},
   "source": [
    "### Repeated steps\n",
    "##### To repeat an action over and over again for a while \n",
    "##### You use the while keyword ,it shows you the pattern of sequential code"
   ]
  },
  {
   "cell_type": "code",
   "execution_count": null,
   "id": "dfced5f5-8b43-422c-944d-edc1bb68d5e8",
   "metadata": {},
   "outputs": [],
   "source": [
    "# Loops(repeated steps)have irritation variables that change each time through a loop\n",
    "\n",
    "n = 5\n",
    "while n > 0:\n",
    "    print(n)\n",
    "    \n",
    "    n = n + 1\n",
    "print(\"Blastoff!\")"
   ]
  },
  {
   "cell_type": "code",
   "execution_count": null,
   "id": "4dea0304-52e0-478d-9f36-92f3d94b60c2",
   "metadata": {},
   "outputs": [],
   "source": [
    "#### How to combine patterns of sequential, Reppeated and conditional together."
   ]
  },
  {
   "cell_type": "code",
   "execution_count": null,
   "id": "00182ed5-d64f-493a-a941-74e77c157d85",
   "metadata": {},
   "outputs": [],
   "source": [
    "# A short python 'story'about how to count words in file.A word used to read data from a user.\n",
    "name = input('Enter files :')\n",
    "    handle = open(name, 'r')\n",
    "    \n",
    "# A sentence about updating one of the many counts.   \n",
    "    counts = dict()\n",
    "    for line in handle:\n",
    "        words = line.split()\n",
    "        for words in words:\n",
    "counts[words] = counts.get(word,0) + 1\n",
    "\n",
    "# A paragraph about how to find the largest item in a list\n",
    "bigcount = None\n",
    "bigword = None\n",
    "For word,count in counts.items():\n",
    "    if bigcount is None or count > bigcount:\n",
    "        bigword = word\n",
    "        bigcount = count\n",
    "        \n",
    "print(bigword, bigcount)"
   ]
  },
  {
   "cell_type": "markdown",
   "id": "1dcbb4d7-4156-47d3-9706-0680cdc27fa4",
   "metadata": {},
   "source": [
    "### Python Packages For Data Science\n",
    "#### Main Packages available for analysis in python\n",
    "\n",
    "##### A python library is a collection of functions and methods that allows you \n",
    "##### to perform lots of action without running any code. They have built-in functions you can use correctly.\n",
    "##### It is divided into 3 groups: namely\n",
    "##### 1.Scientific computing libraries such as pandas( Data structure and tools)\n",
    "#####  Numpy (Arrays and Matrixes, inputs and outputs)\n",
    "##### Scipy(integral solving diferential equation, optimization).\n",
    "##### 2.Visualization Libraries: THis is the best way to communicate with others and it shows the useful result of analysis.\n",
    "#####  it is used to create graphs,chart and maps, Matplotlib is the most well known libraries for making \n",
    "##### (plots,graph ,most popular),and the graphs are highly customized.\n",
    "##### Another eg. is Seabon also based on mapplotlib(plots,heat maps,time series, volin plots)\n",
    "##### 3.Algomethic libraries :With Machine learning algorithm, we are able to develop a model using our\n",
    "##### using our datset and obtain predictions.\n",
    "##### The algomethric libraries tackles a machine learning task from basic to complex.\n",
    "##### The two packages we can use here are Scilkit -learn(marchine learning:regression and clasification)\n",
    "#####  They are built on Numpy , scipy and matplotlib.\n",
    "##### Another eg.of algometric lib is Statsmodel and this allows you to tackle machine learning from simple to complex\n",
    "##### It also allows you to Estimate statistical models,explore data and perform statistical test."
   ]
  },
  {
   "cell_type": "markdown",
   "id": "d2aa31e0-05f9-4430-9b1b-1fbcd83eae88",
   "metadata": {},
   "source": [
    "### Why Python?\n",
    "\n",
    "##### 1.  It is an open source : free to use and people can easily contribute to it.\n",
    "##### It is available in all major operating system, the software we are using is develpoed by google \n",
    "##### and made availabe for all to use.\n",
    "\n",
    "##### 2. General-purpose : It is suitable for all kinds of needs, not only Data Science and Machine learning \n",
    "##### but also preprocessing, web programming,app creation and just about anything you can think of ,\n",
    "##### but our focus will be on the analytical part.\n",
    "\n",
    "##### 3. High level : it uses high level languages which are a bit more techinical but loosely explained\n",
    "##### it has an easy syntax that is close to logical human language later translated into lower level\n",
    "##### languages or even 1s (ones) and 0s(zeros) for. eg. the numpy package actually goes through the programming language \"c\"\n",
    "##### that's why it is so fast , though python is not among the fastest programing language, it is very\n",
    "##### easy to learn and use and there are counless packages developed and maintained for it.\n",
    "\n",
    "##### Despite the fact that python is a programming language ,it can allow you to interract with your computer\n",
    "##### but it needs the help of a specific software or an application to be able to run effectively.\n",
    "##### Eg. Jupiter notebook app can help us interate with the python software. \n",
    "##### it is a server-client application. \n",
    "\n",
    "##### Jupiter is used in so many large co operation like gogle, microsoft and Ibm for its design.\n",
    "##### It is well suited for demonstrations of programming concepts and training.\n",
    "##### The files can be stored easily on  local or remote server.\n",
    "##### It allows you to use the same notebook file to connect all your files from differnt software\n",
    "##### packages in a situation you are using Julia, PHP, python and R soft ware for diff. work \n",
    "##### Jupiter facilitates team communication tremendiously\n",
    "##### Also,Jupiter is not a text editor that opens a new window every time you execute a different part of your code\n",
    "##### as is the case with some othe software, but in te same file you can have pure text that will communicate the \n",
    "##### informatiion to the reader and this is why it is most preffered."
   ]
  },
  {
   "cell_type": "code",
   "execution_count": null,
   "id": "1f5e2ba4-67af-420f-8081-45e82adf82cc",
   "metadata": {},
   "outputs": [],
   "source": [
    "def plus_ten(x):\n",
    "    return x + 10\n",
    "print plus_ten(2)"
   ]
  }
 ],
 "metadata": {
  "kernelspec": {
   "display_name": "Python 3 (ipykernel)",
   "language": "python",
   "name": "python3"
  },
  "language_info": {
   "codemirror_mode": {
    "name": "ipython",
    "version": 3
   },
   "file_extension": ".py",
   "mimetype": "text/x-python",
   "name": "python",
   "nbconvert_exporter": "python",
   "pygments_lexer": "ipython3",
   "version": "3.9.7"
  }
 },
 "nbformat": 4,
 "nbformat_minor": 5
}
